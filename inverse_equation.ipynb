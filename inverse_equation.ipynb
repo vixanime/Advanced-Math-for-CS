{
 "cells": [
  {
   "cell_type": "markdown",
   "metadata": {},
   "source": [
    "Problem 1: Find the inverse of the matrix\n",
    "\n",
    "Given matrix A = [[3, 4], let's find its inverse.\n",
    "                  [2, 5]]"
   ]
  },
  {
   "cell_type": "code",
   "execution_count": 38,
   "metadata": {},
   "outputs": [
    {
     "name": "stdout",
     "output_type": "stream",
     "text": [
      "Determinant of A: \n",
      "7.000000000000001\n",
      "\n",
      "Inverse of A:\n",
      "[[ 0.71428571 -0.57142857]\n",
      " [-0.28571429  0.42857143]]\n"
     ]
    }
   ],
   "source": [
    "import numpy as np  # Import the NumPy library for numerical operations\n",
    "\n",
    "# Define the 2x2 matrix\n",
    "A = np.array([[3, 4],  # First row of the matrix\n",
    "              [2, 5]])  # Second row of the matrix\n",
    "\n",
    "# Calculate the determinant of the matrix\n",
    "det_A = np.linalg.det(A)  # Use NumPy to find the determinant\n",
    "print(f\"Determinant of A: \\n{det_A}\")  # Print the determinant\n",
    "\n",
    "if det_A != 0:  # Check if the determinant is not zero (matrix is invertible)\n",
    "    # Calculate the inverse of the matrix\n",
    "    A_inv = np.linalg.inv(A)  # Use NumPy to find the inverse\n",
    "    print(\"\\nInverse of A:\")  # Print a message\n",
    "    print(A_inv)  # Print the inverse matrix\n",
    "else:\n",
    "    print(\"Matrix A is not invertible.\")  # Print a message if the matrix is not invertible"
   ]
  },
  {
   "cell_type": "markdown",
   "metadata": {},
   "source": [
    "Problem 2: Solve the system of equations\n",
    "\n",
    "The system is: \n",
    "                \n",
    "      {2x + 3y = 7}\n",
    "      {4x - y = 5}"
   ]
  },
  {
   "cell_type": "code",
   "execution_count": 39,
   "metadata": {},
   "outputs": [
    {
     "name": "stdout",
     "output_type": "stream",
     "text": [
      "Solution for [x and y]:\n",
      "x = 1.5714285714285716 , y = 1.2857142857142858\n"
     ]
    }
   ],
   "source": [
    "# Coefficient matrix\n",
    "coef = np.array([[2, 3],  # First row of the coefficient matrix\n",
    "                 [4, -1]])  # Second row of the coefficient matrix\n",
    "\n",
    "# Constant vector\n",
    "rhs_matrix = np.array([7, 5])  # Right-hand side constants of the equations\n",
    "\n",
    "# Check if the coefficient matrix is invertible\n",
    "if np.linalg.det(coef) != 0:  # Check if the determinant is not zero (matrix is invertible)\n",
    "    # Solve for [x, y] using the matrix inverse\n",
    "    solution = np.linalg.inv(coef).dot(rhs_matrix)  # Find the solution using the inverse\n",
    "    print(\"Solution for [x and y]:\")  # Print a message\n",
    "    print(\"x =\", solution[0], \", y =\", solution[1])  # Print the values of x and y\n",
    "else:\n",
    "    print(\"Matrix coefficient is not invertible, no unique solution.\")  # Print a message if the matrix is not invertible\n"
   ]
  },
  {
   "cell_type": "markdown",
   "metadata": {},
   "source": [
    "Problem 3: Analyze the matrix\n",
    "\n",
    "Matrix A = \n",
    "    \n",
    "    [[1, 2, 3]\n",
    "    [0, 1, 4]\n",
    "    [5, 6, 0]]\n",
    "\n",
    "Tasks:\n",
    "- Check if the matrix is invertible.\n",
    "- Find its determinant.\n",
    "- If invertible, calculate the inverse."
   ]
  },
  {
   "cell_type": "code",
   "execution_count": 41,
   "metadata": {},
   "outputs": [
    {
     "name": "stdout",
     "output_type": "stream",
     "text": [
      "Determinant of A: \n",
      "0.9999999999999964\n",
      "\n",
      "Inverse of A:\n",
      "[[-24.  18.   5.]\n",
      " [ 20. -15.  -4.]\n",
      " [ -5.   4.   1.]]\n"
     ]
    }
   ],
   "source": [
    "# Define the 3x3 matrix\n",
    "A = np.array([[1, 2, 3],  # First row of the matrix\n",
    "              [0, 1, 4],  # Second row of the matrix\n",
    "              [5, 6, 0]])  # Third row of the matrix\n",
    "\n",
    "# Calculate the determinant of the matrix\n",
    "det_A = np.linalg.det(A)  # Use NumPy to find the determinant\n",
    "print(f\"Determinant of A: \\n{det_A}\")  # Print the determinant\n",
    "\n",
    "if det_A != 0:  # Check if the determinant is not zero (matrix is invertible)\n",
    "    # Calculate the inverse of the matrix\n",
    "    A_inverse = np.linalg.inv(A)  # Use NumPy to find the inverse\n",
    "    print(\"\\nInverse of A:\")  # Print a message\n",
    "    print(A_inverse)  # Print the inverse matrix\n",
    "else:\n",
    "    print(\"Matrix A is not invertible.\")  # Print a message if the matrix is not invertible"
   ]
  },
  {
   "cell_type": "markdown",
   "metadata": {},
   "source": [
    "Problem 4: Solve the system of equations using matrix inverse\n",
    "\n",
    "System of Equations:\n",
    "\n",
    "x+y+z =6\n",
    "2x+5y+z =−4\n",
    "2x+3y+8z =9\n",
    "​\n",
    "\n",
    "In matrix form:\n",
    "\n",
    "    A = [[1, 1, 1]\n",
    "         [2, 5, 1] \n",
    "         [2, 5, 1]\n",
    "         [2, 3, 8]]\n",
    "\n",
    "    b = [[6]\n",
    "        [-4] \n",
    "        [9]]"
   ]
  },
  {
   "cell_type": "code",
   "execution_count": 43,
   "metadata": {},
   "outputs": [
    {
     "name": "stdout",
     "output_type": "stream",
     "text": [
      "Determinant of A: \n",
      "18.999999999999996\n",
      "\n",
      "Solution for [x, y, z]:\n",
      "[10.84210526 -5.21052632  0.36842105]\n"
     ]
    }
   ],
   "source": [
    "# Coefficient matrix\n",
    "A = np.array([[1, 1, 1],  # First row of the coefficient matrix\n",
    "              [2, 5, 1],  # Second row of the coefficient matrix\n",
    "              [2, 3, 8]])  # Third row of the coefficient matrix\n",
    "\n",
    "# Constant vector\n",
    "b = np.array([6, -4, 9])  # Right-hand side constants of the equations\n",
    "\n",
    "# Check if A is invertible\n",
    "det_A = np.linalg.det(A)  # Use NumPy to find the determinant\n",
    "print(f\"Determinant of A: \\n{det_A}\")  # Print the determinant\n",
    "\n",
    "if det_A != 0:  # Check if the determinant is not zero (matrix is invertible)\n",
    "    # Compute the inverse and solve for x\n",
    "    A_inv = np.linalg.inv(A)  # Use NumPy to find the inverse\n",
    "    x = A_inv.dot(b)  # Find the solution using the inverse\n",
    "    print(\"\\nSolution for [x, y, z]:\")  # Print a message\n",
    "    print(x)  # Print the values of x, y, and z\n",
    "else:\n",
    "    print(\"\\nMatrix A is not invertible.\")  # Print a message if the matrix is not invertible"
   ]
  },
  {
   "cell_type": "markdown",
   "metadata": {},
   "source": [
    "Problem 5: A system of linear equations is given by the following matrix equation\n",
    "\n",
    "Where: \n",
    "\n",
    "    A = [[4, -1, 0]\n",
    "         [3, 5, 2]\n",
    "         [-2, 4, 1]]\n",
    "\n",
    "    b = [[5]\n",
    "        [6] \n",
    "        [2]]"
   ]
  },
  {
   "cell_type": "code",
   "execution_count": 44,
   "metadata": {},
   "outputs": [
    {
     "name": "stdout",
     "output_type": "stream",
     "text": [
      "Determinant of A: \n",
      "-5.000000000000002\n",
      "\n",
      "Solution for [x1, x2, x3]:\n",
      "[  2.6   5.4 -14.4]\n"
     ]
    }
   ],
   "source": [
    "# Coefficient matrix\n",
    "A = np.array([[4, -1, 0],\n",
    "              [3, 5, 2],\n",
    "              [-2, 4, 1]])\n",
    "\n",
    "# Constant vector\n",
    "b = np.array([5, 6, 2])\n",
    "\n",
    "# Check if A is invertible\n",
    "det_A = np.linalg.det(A)\n",
    "print(f\"Determinant of A: \\n{det_A}\")\n",
    "\n",
    "if det_A != 0:\n",
    "    # Compute the inverse and solve for x\n",
    "    A_inv = np.linalg.inv(A)\n",
    "    x = A_inv.dot(b)\n",
    "    print(\"\\nSolution for [x1, x2, x3]:\")\n",
    "    print(x)\n",
    "else:\n",
    "    print(\"\\nMatrix A is not invertible.\")\n"
   ]
  }
 ],
 "metadata": {
  "kernelspec": {
   "display_name": "base",
   "language": "python",
   "name": "python3"
  },
  "language_info": {
   "codemirror_mode": {
    "name": "ipython",
    "version": 3
   },
   "file_extension": ".py",
   "mimetype": "text/x-python",
   "name": "python",
   "nbconvert_exporter": "python",
   "pygments_lexer": "ipython3",
   "version": "3.12.7"
  }
 },
 "nbformat": 4,
 "nbformat_minor": 2
}
