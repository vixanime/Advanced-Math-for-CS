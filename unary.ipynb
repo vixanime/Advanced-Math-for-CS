{
 "cells": [
  {
   "cell_type": "markdown",
   "metadata": {},
   "source": [
    "Section 1: Understanding Unary Operations\n",
    "\n",
    "Q1: What are some examples of unary operations in matrices? Write your answer below:\n",
    "\n",
    "Examples of unary operations in matrices:\n",
    "1. Transpose - Flipping the matrix over its diagonal.\n",
    "2. Trace - Summing up the diagonal elements of the matrix.\n",
    "3. Determinant - Calculating a scalar value that describes the matrix's properties.\n"
   ]
  },
  {
   "cell_type": "markdown",
   "metadata": {},
   "source": [
    "Section 1: Transpose of a Matrix and Symmetric Matrices\n"
   ]
  },
  {
   "cell_type": "code",
   "execution_count": 27,
   "metadata": {},
   "outputs": [
    {
     "name": "stdout",
     "output_type": "stream",
     "text": [
      "Matrix A:\n",
      " [[1 2 3]\n",
      " [4 5 6]\n",
      " [7 8 9]]\n",
      "\n",
      "Transpose of Matrix A:\n",
      " [[1 4 7]\n",
      " [2 5 8]\n",
      " [3 6 9]]\n"
     ]
    }
   ],
   "source": [
    "import numpy as np\n",
    "\n",
    "# Create a 3x3 matrix\n",
    "matrix_A = np.array([[1, 2, 3],\n",
    "                     [4, 5, 6],\n",
    "                     [7, 8, 9]])\n",
    "\n",
    "# Find the transpose\n",
    "transpose_A = matrix_A.T\n",
    "\n",
    "print(\"Matrix A:\\n\", matrix_A)\n",
    "print(\"\\nTranspose of Matrix A:\\n\", transpose_A)"
   ]
  },
  {
   "cell_type": "markdown",
   "metadata": {},
   "source": [
    "Q2: Check if matrix_A is a symmetric matrix. Modify the code below to verify this."
   ]
  },
  {
   "cell_type": "code",
   "execution_count": null,
   "metadata": {},
   "outputs": [
    {
     "name": "stdout",
     "output_type": "stream",
     "text": [
      "\n",
      "Is Matrix A symmetric?  False\n"
     ]
    }
   ],
   "source": [
    "# Check if the matrix is symmetric\n",
    "is_symmetric = (matrix_A == matrix_A.T).all()\n",
    "print(\"\\nIs Matrix A symmetric? \", is_symmetric)"
   ]
  },
  {
   "cell_type": "markdown",
   "metadata": {},
   "source": [
    "Practice Problem 1: Create a 4x4 random matrix and check if it is symmetric."
   ]
  },
  {
   "cell_type": "code",
   "execution_count": null,
   "metadata": {},
   "outputs": [
    {
     "name": "stdout",
     "output_type": "stream",
     "text": [
      "Random Matrix:\n",
      " [[4 9 6 3]\n",
      " [9 4 4 9]\n",
      " [3 7 6 4]\n",
      " [6 2 8 6]]\n",
      "\n",
      "Transpose of Random Matrix:\n",
      " [[4 9 3 6]\n",
      " [9 4 7 2]\n",
      " [6 4 6 8]\n",
      " [3 9 4 6]]\n",
      "\n",
      "Is the random matrix symmetric?  False\n"
     ]
    }
   ],
   "source": [
    "# Create a random 4x4 matrix\n",
    "random_matrix = np.random.randint(1, 10, (4, 4))\n",
    "\n",
    "# Find its transpose\n",
    "transpose_random = random_matrix.T\n",
    "\n",
    "# Check symmetry\n",
    "is_symmetric_random = (random_matrix == transpose_random).all()\n",
    "\n",
    "print(\"Random Matrix:\\n\", random_matrix)\n",
    "print(\"\\nTranspose of Random Matrix:\\n\", transpose_random)\n",
    "print(\"\\nIs the random matrix symmetric? \", is_symmetric_random)\n"
   ]
  },
  {
   "cell_type": "markdown",
   "metadata": {},
   "source": [
    "Section 2: Trace of a Matrix"
   ]
  },
  {
   "cell_type": "code",
   "execution_count": null,
   "metadata": {},
   "outputs": [
    {
     "name": "stdout",
     "output_type": "stream",
     "text": [
      "\n",
      "Trace of Matrix A: 15\n"
     ]
    }
   ],
   "source": [
    "# Calculate the trace of matrix_A\n",
    "trace_A = np.trace(matrix_A)\n",
    "print(\"\\nTrace of Matrix A:\", trace_A)"
   ]
  },
  {
   "cell_type": "markdown",
   "metadata": {},
   "source": [
    "Q3: What is the trace of the following matrix?"
   ]
  },
  {
   "cell_type": "code",
   "execution_count": 62,
   "metadata": {},
   "outputs": [
    {
     "name": "stdout",
     "output_type": "stream",
     "text": [
      "\n",
      "Trace of Matrix B: 31\n"
     ]
    }
   ],
   "source": [
    "matrix_B = np.array([[10, 20, 30],\n",
    "                     [5, 15, 25],\n",
    "                     [2, 4, 6]])\n",
    "\n",
    "trace_B = np.trace(matrix_B)\n",
    "print(\"\\nTrace of Matrix B:\", trace_B)"
   ]
  },
  {
   "cell_type": "markdown",
   "metadata": {},
   "source": [
    "Practice Problem 2: Find the trace of a 5x5 identity matrix."
   ]
  },
  {
   "cell_type": "code",
   "execution_count": null,
   "metadata": {},
   "outputs": [
    {
     "name": "stdout",
     "output_type": "stream",
     "text": [
      "\n",
      "5x5 Identity Matrix:\n",
      " [[1. 0. 0. 0. 0.]\n",
      " [0. 1. 0. 0. 0.]\n",
      " [0. 0. 1. 0. 0.]\n",
      " [0. 0. 0. 1. 0.]\n",
      " [0. 0. 0. 0. 1.]]\n",
      "\n",
      "Trace of 5x5 Identity Matrix: 5.0\n"
     ]
    }
   ],
   "source": [
    "# 5x5 identity matrix\n",
    "identity_matrix = np.identity(5)\n",
    "\n",
    "# Find the trace\n",
    "trace_identity = np.trace(identity_matrix)\n",
    "\n",
    "print(\"\\n5x5 Identity Matrix:\\n\", identity_matrix)\n",
    "print(\"\\nTrace of 5x5 Identity Matrix:\", trace_identity)\n"
   ]
  },
  {
   "cell_type": "markdown",
   "metadata": {},
   "source": [
    "Section 3: Determinant using the Cofactor Method"
   ]
  },
  {
   "cell_type": "markdown",
   "metadata": {},
   "source": [
    "Practice Problem 3: Compute the determinant of the following 3x3 matrix using NumPy:"
   ]
  },
  {
   "cell_type": "code",
   "execution_count": 63,
   "metadata": {},
   "outputs": [
    {
     "name": "stdout",
     "output_type": "stream",
     "text": [
      "\n",
      "Determinant of Matrix A: 6.66133814775094e-16\n"
     ]
    }
   ],
   "source": [
    "# Determinant using NumPy\n",
    "det_A = np.linalg.det(matrix_A)\n",
    "print(\"\\nDeterminant of Matrix A:\", det_A)"
   ]
  },
  {
   "cell_type": "markdown",
   "metadata": {},
   "source": [
    "Manual Cofactor Method"
   ]
  },
  {
   "cell_type": "code",
   "execution_count": 34,
   "metadata": {},
   "outputs": [
    {
     "name": "stdout",
     "output_type": "stream",
     "text": [
      "Determinant of Matrix C: 14\n"
     ]
    }
   ],
   "source": [
    "# Determinant of a 2x2 matrix using the cofactor method\n",
    "matrix_C = np.array([[4, 6], [3, 8]])\n",
    "det_C = (matrix_C[0, 0] * matrix_C[1, 1]) - (matrix_C[0, 1] * matrix_C[1, 0])\n",
    "print(\"Determinant of Matrix C:\", det_C)"
   ]
  },
  {
   "cell_type": "markdown",
   "metadata": {},
   "source": [
    "Practice Problem 3: Compute the determinant of the following 3x3 matrix using NumPy:"
   ]
  },
  {
   "cell_type": "code",
   "execution_count": 65,
   "metadata": {},
   "outputs": [
    {
     "name": "stdout",
     "output_type": "stream",
     "text": [
      "\n",
      "Determinant of Matrix D: 22.000000000000004\n"
     ]
    }
   ],
   "source": [
    "matrix_D = np.array([[1, 2, 3],\n",
    "                     [0, 4, 5],\n",
    "                     [1, 0, 6]])\n",
    "\n",
    "det_D = np.linalg.det(matrix_D)\n",
    "print(\"\\nDeterminant of Matrix D:\", det_D)"
   ]
  },
  {
   "cell_type": "markdown",
   "metadata": {},
   "source": [
    "Section 4: Practice Problems\n",
    "\n",
    "Practice Problem 4: Application in Computer Science"
   ]
  },
  {
   "cell_type": "code",
   "execution_count": 68,
   "metadata": {},
   "outputs": [
    {
     "name": "stdout",
     "output_type": "stream",
     "text": [
      "Pixel Intensity Matrix:\n",
      " [[102 169 103]\n",
      " [170 225   6]\n",
      " [147  25 161]]\n",
      "\n",
      "Transpose of the 3x3 Matrix:\n",
      " [[102 170 147]\n",
      " [169 225  25]\n",
      " [103   6 161]]\n",
      "\n",
      "Determinant of the 3x3 Matrix: \n",
      " -3765796.999999996\n"
     ]
    }
   ],
   "source": [
    "random_matrix_3x3 = np.random.randint(0, 256, (3, 3))\n",
    "transpose_3x3 = random_matrix_3x3.T\n",
    "det_3x3 = np.linalg.det(random_matrix_3x3)\n",
    "\n",
    "print(\"Pixel Intensity Matrix:\\n\", random_matrix_3x3)\n",
    "print(\"\\nTranspose of the 3x3 Matrix:\\n\", transpose_3x3)\n",
    "print(\"\\nDeterminant of the 3x3 Matrix: \\n\", det_3x3)"
   ]
  },
  {
   "cell_type": "markdown",
   "metadata": {},
   "source": [
    "Practice Problem 5: Symmetric Matrices in Machine Learning"
   ]
  },
  {
   "cell_type": "code",
   "execution_count": 79,
   "metadata": {},
   "outputs": [
    {
     "name": "stdout",
     "output_type": "stream",
     "text": [
      "Symmetric Matrix:\n",
      " [[3 2 4]\n",
      " [2 5 6]\n",
      " [4 6 7]]\n",
      "\n",
      "Is the matrix symmetric?  True\n"
     ]
    }
   ],
   "source": [
    "symmetric_matrix = np.array([[3, 2, 4],\n",
    "                              [2, 5, 6],\n",
    "                              [4, 6, 7]])\n",
    "\n",
    "# Verify if the matrix is symmetric\n",
    "is_symmetric_matrix = (symmetric_matrix == symmetric_matrix.T).all()\n",
    "print(\"Symmetric Matrix:\\n\", symmetric_matrix)\n",
    "print(\"\\nIs the matrix symmetric? \", is_symmetric_matrix)"
   ]
  }
 ],
 "metadata": {
  "kernelspec": {
   "display_name": "base",
   "language": "python",
   "name": "python3"
  },
  "language_info": {
   "codemirror_mode": {
    "name": "ipython",
    "version": 3
   },
   "file_extension": ".py",
   "mimetype": "text/x-python",
   "name": "python",
   "nbconvert_exporter": "python",
   "pygments_lexer": "ipython3",
   "version": "3.12.7"
  }
 },
 "nbformat": 4,
 "nbformat_minor": 2
}
