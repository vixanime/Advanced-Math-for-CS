{
  "nbformat": 4,
  "nbformat_minor": 0,
  "metadata": {
    "colab": {
      "provenance": []
    },
    "kernelspec": {
      "name": "python3",
      "display_name": "Python 3"
    },
    "language_info": {
      "name": "python"
    }
  },
  "cells": [
    {
      "cell_type": "markdown",
      "source": [
        "# PROBLEM NUMBER 1:"
      ],
      "metadata": {
        "id": "bgpnVbJFs4uK"
      }
    },
    {
      "cell_type": "code",
      "source": [
        "import numpy as np\n",
        "\n",
        "# 1. Naive Gauss Elimination Method to solve the system of equations\n",
        "# Define the augmented matrix\n",
        "A = np.array([\n",
        "    [4, 1, -1, -2],\n",
        "    [5, 1, 2, 4],\n",
        "    [6, 1, 1, 6]\n",
        "], dtype=float)\n",
        "\n",
        "# Perform forward elimination\n",
        "# Eliminate the first column below the pivot\n",
        "factor = A[1, 0] / A[0, 0]  # Compute factor for row 1\n",
        "A[1, :] = A[1, :] - factor * A[0, :]  # Update row 1\n",
        "\n",
        "factor = A[2, 0] / A[0, 0]  # Compute factor for row 2\n",
        "A[2, :] = A[2, :] - factor * A[0, :]  # Update row 2\n",
        "\n",
        "# Eliminate the second column below the pivot\n",
        "factor = A[2, 1] / A[1, 1]  # Compute factor for row 2\n",
        "A[2, :] = A[2, :] - factor * A[1, :]  # Update row 2\n",
        "\n",
        "# Perform back substitution\n",
        "x3 = A[2, 3] / A[2, 2]  # Solve for x3\n",
        "x2 = (A[1, 3] - A[1, 2] * x3) / A[1, 1]  # Solve for x2\n",
        "x1 = (A[0, 3] - A[0, 1] * x2 - A[0, 2] * x3) / A[0, 0]  # Solve for x1\n",
        "\n",
        "# Store the solution\n",
        "solution_1 = [x1, x2, x3]\n",
        "print(\"Solution to the system of equations (Task 1):\", solution_1)"
      ],
      "metadata": {
        "colab": {
          "base_uri": "https://localhost:8080/"
        },
        "id": "IGtroQhKs7D2",
        "outputId": "4463b6a3-bd01-4799-afbb-1f8d8b8e92b5"
      },
      "execution_count": 13,
      "outputs": [
        {
          "output_type": "stream",
          "name": "stdout",
          "text": [
            "Solution to the system of equations (Task 1): [3.0, -13.0, 1.0]\n"
          ]
        }
      ]
    },
    {
      "cell_type": "markdown",
      "source": [
        "# PROBLEM NUMBER 2:"
      ],
      "metadata": {
        "id": "kagQTFccuC85"
      }
    },
    {
      "cell_type": "code",
      "source": [
        "# 2. Gauss Elimination with chopping to four significant digits\n",
        "# Define the augmented matrix\n",
        "A = np.array([\n",
        "    [4, 1, -1, -2],\n",
        "    [5, 1, 2, 4],\n",
        "    [6, 1, 1, 6]\n",
        "], dtype=float)\n",
        "\n",
        "# Function to chop values to four significant digits\n",
        "def chop_to_significant_digits(x, digits=4):\n",
        "    if x == 0:\n",
        "        return 0\n",
        "    factor = 10 ** (digits - int(np.floor(np.log10(abs(x)))) - 1)\n",
        "    return np.floor(x * factor) / factor\n",
        "\n",
        "# Perform forward elimination with chopping\n",
        "# Eliminate the first column below the pivot\n",
        "factor = chop_to_significant_digits(A[1, 0] / A[0, 0], 4)\n",
        "A[1, :] = [chop_to_significant_digits(val, 4) for val in A[1, :] - factor * A[0, :]]\n",
        "\n",
        "factor = chop_to_significant_digits(A[2, 0] / A[0, 0], 4)\n",
        "A[2, :] = [chop_to_significant_digits(val, 4) for val in A[2, :] - factor * A[0, :]]\n",
        "\n",
        "# Eliminate the second column below the pivot\n",
        "factor = chop_to_significant_digits(A[2, 1] / A[1, 1], 4)\n",
        "A[2, :] = [chop_to_significant_digits(val, 4) for val in A[2, :] - factor * A[1, :]]\n",
        "\n",
        "# Perform back substitution with chopping\n",
        "x3 = chop_to_significant_digits(A[2, 3] / A[2, 2], 4)\n",
        "x2 = chop_to_significant_digits((A[1, 3] - A[1, 2] * x3) / A[1, 1], 4)\n",
        "x1 = chop_to_significant_digits((A[0, 3] - A[0, 1] * x2 - A[0, 2] * x3) / A[0, 0], 4)\n",
        "\n",
        "# Store the solution\n",
        "solution_2 = [x1, x2, x3]\n",
        "print(\"Solution with chopping to 4 significant digits (Task 2):\", solution_2)"
      ],
      "metadata": {
        "colab": {
          "base_uri": "https://localhost:8080/"
        },
        "id": "VKdD-JqquG6s",
        "outputId": "c3671224-e54d-42f7-e455-fca7850bcbe8"
      },
      "execution_count": 14,
      "outputs": [
        {
          "output_type": "stream",
          "name": "stdout",
          "text": [
            "Solution with chopping to 4 significant digits (Task 2): [3.0, -13.0, 1.0]\n"
          ]
        }
      ]
    },
    {
      "cell_type": "markdown",
      "source": [
        "# PROBLEM NUMBER 3:"
      ],
      "metadata": {
        "id": "Lix1Zu_ouLmW"
      }
    },
    {
      "cell_type": "code",
      "source": [
        "# 3. Compute the determinant of a matrix using forward elimination\n",
        "# Define the matrix\n",
        "B = np.array([\n",
        "    [10, -7, 0],\n",
        "    [-3, 2.099, 6],\n",
        "    [5, -1, 5]\n",
        "], dtype=float)\n",
        "\n",
        "det = 1 # Initialize determinant\n",
        "\n",
        "# Perform forward elimination\n",
        "# Eliminate the first column below the pivot\n",
        "factor = B[1, 0] / B[0, 0]  # Compute factor for row 1\n",
        "B[1, :] = B[1, :] - factor * B[0, :]  # Update row 1\n",
        "\n",
        "factor = B[2, 0] / B[0, 0]  # Compute factor for row 2\n",
        "B[2, :] = B[2, :] - factor * B[0, :]  # Update row 2\n",
        "\n",
        "# Eliminate the second column below the pivot\n",
        "factor = B[2, 1] / B[1, 1]  # Compute factor for row 2\n",
        "B[2, :] = B[2, :] - factor * B[1, :]  # Update row 2\n",
        "\n",
        "# Compute determinant from diagonal elements\n",
        "det = det * B[0, 0] * B[1, 1] * B[2, 2]\n",
        "\n",
        "print(\"Determinant of matrix [A] (Task 3):\", det)"
      ],
      "metadata": {
        "colab": {
          "base_uri": "https://localhost:8080/"
        },
        "id": "-6_J4P6WuPir",
        "outputId": "5839e6ea-aead-4207-efe8-ee0b8082024c"
      },
      "execution_count": 15,
      "outputs": [
        {
          "output_type": "stream",
          "name": "stdout",
          "text": [
            "Determinant of matrix [A] (Task 3): -150.04999999999998\n"
          ]
        }
      ]
    },
    {
      "cell_type": "markdown",
      "source": [
        "# PROBLEM NUMBER 4:"
      ],
      "metadata": {
        "id": "8OjEIDLOuTVi"
      }
    },
    {
      "cell_type": "code",
      "source": [
        "# 4. Compute determinant of another matrix after reduction\n",
        "C = np.array([\n",
        "    [25, 5, 1],\n",
        "    [0, -4.8, -1.56],\n",
        "    [0, 0, 0.7]\n",
        "], dtype=float)\n",
        "\n",
        "# Perform forward elimination\n",
        "# Eliminate the first column below the pivot\n",
        "factor = C[1, 0] / C[0, 0]  # Compute factor for row 1\n",
        "C[1, :] = C[1, :] - factor * C[0, :]  # Update row 1\n",
        "\n",
        "factor = C[2, 0] / C[0, 0]  # Compute factor for row 2\n",
        "C[2, :] = C[2, :] - factor * C[0, :]  # Update row 2\n",
        "\n",
        "# Eliminate the second column below the pivot\n",
        "factor = C[2, 1] / C[1, 1]  # Compute factor for row 2\n",
        "C[2, :] = C[2, :] - factor * C[1, :]  # Update row 2\n",
        "\n",
        "# Compute determinant from diagonal elements\n",
        "det_C = C[0, 0] * C[1, 1] * C[2, 2]\n",
        "\n",
        "print(\"Determinant of reduced matrix [C] (Task 4):\", det_C)"
      ],
      "metadata": {
        "colab": {
          "base_uri": "https://localhost:8080/"
        },
        "id": "sn2HbNL_uY8u",
        "outputId": "0b1e47f4-2fa5-4fb8-fbe0-f29246c8d376"
      },
      "execution_count": 16,
      "outputs": [
        {
          "output_type": "stream",
          "name": "stdout",
          "text": [
            "Determinant of reduced matrix [C] (Task 4): -84.0\n"
          ]
        }
      ]
    },
    {
      "cell_type": "markdown",
      "source": [
        "# PROBLEM NUMBER 5:"
      ],
      "metadata": {
        "id": "i3bUqUX7u6d4"
      }
    },
    {
      "cell_type": "code",
      "source": [
        "# 5. Gaussian elimination with partial pivoting\n",
        "A = np.array([\n",
        "    [4, 1, -1, -2],\n",
        "    [5, 1, 2, 4],\n",
        "    [6, 1, 1, 6]\n",
        "], dtype=float)\n",
        "\n",
        "pivot = np.argmax(abs(A[:, 0]))  # Find the pivot row\n",
        "if pivot != 0:\n",
        "    A[[0, pivot]] = A[[pivot, 0]]  # Swap rows\n",
        "\n",
        "# Perform forward elimination\n",
        "factor = A[1, 0] / A[0, 0]  # Compute factor for row 1\n",
        "A[1, :] = A[1, :] - factor * A[0, :]  # Update row 1\n",
        "\n",
        "factor = A[2, 0] / A[0, 0]  # Compute factor for row 2\n",
        "A[2, :] = A[2, :] - factor * A[0, :]  # Update row 2\n",
        "\n",
        "# Perform partial pivoting on the second column\n",
        "pivot = np.argmax(abs(A[1:, 1])) + 1  # Find the pivot row\n",
        "if pivot != 1:\n",
        "    A[[1, pivot]] = A[[pivot, 1]]  # Swap rows\n",
        "\n",
        "# Eliminate the second column below the pivot\n",
        "factor = A[2, 1] / A[1, 1]  # Compute factor for row 2\n",
        "A[2, :] = A[2, :] - factor * A[1, :]  # Update row 2\n",
        "\n",
        "# Perform back substitution\n",
        "x3 = A[2, 3] / A[2, 2]  # Solve for x3\n",
        "x2 = (A[1, 3] - A[1, 2] * x3) / A[1, 1]  # Solve for x2\n",
        "x1 = (A[0, 3] - A[0, 1] * x2 - A[0, 2] * x3) / A[0, 0]  # Solve for x1\n",
        "\n",
        "# Store the solution\n",
        "solution_5 = [x1, x2, x3]\n",
        "print(\"Solution with partial pivoting (Task 5):\", solution_5)"
      ],
      "metadata": {
        "colab": {
          "base_uri": "https://localhost:8080/"
        },
        "id": "8W2Z9mQqu8dj",
        "outputId": "2e43a413-73b2-4c30-9853-ec54fe358945"
      },
      "execution_count": 17,
      "outputs": [
        {
          "output_type": "stream",
          "name": "stdout",
          "text": [
            "Solution with partial pivoting (Task 5): [3.0, -13.0, 0.9999999999999998]\n"
          ]
        }
      ]
    },
    {
      "cell_type": "markdown",
      "source": [
        "# PROBLEM NUMBER 6:"
      ],
      "metadata": {
        "id": "vO2FSrPZu8wu"
      }
    },
    {
      "cell_type": "code",
      "source": [
        "# 6. Gaussian elimination with partial pivoting and chopping\n",
        "A = np.array([\n",
        "    [4, 1, -1, -2],\n",
        "    [5, 1, 2, 4],\n",
        "    [6, 1, 1, 6]\n",
        "], dtype=float)\n",
        "\n",
        "pivot = np.argmax(abs(A[:, 0]))  # Find the pivot row\n",
        "if pivot != 0:\n",
        "    A[[0, pivot]] = A[[pivot, 0]]  # Swap rows\n",
        "\n",
        "# Perform forward elimination with chopping\n",
        "factor = chop_to_significant_digits(A[1, 0] / A[0, 0], 4)  # Compute factor for row 1\n",
        "A[1, :] = [chop_to_significant_digits(val, 4) for val in A[1, :] - factor * A[0, :]]\n",
        "\n",
        "factor = chop_to_significant_digits(A[2, 0] / A[0, 0], 4)  # Compute factor for row 2\n",
        "A[2, :] = [chop_to_significant_digits(val, 4) for val in A[2, :] - factor * A[0, :]]\n",
        "\n",
        "# Perform partial pivoting on the second column\n",
        "pivot = np.argmax(abs(A[1:, 1])) + 1  # Find the pivot row\n",
        "if pivot != 1:\n",
        "    A[[1, pivot]] = A[[pivot, 1]]  # Swap rows\n",
        "\n",
        "# Eliminate the second column below the pivot with chopping\n",
        "factor = chop_to_significant_digits(A[2, 1] / A[1, 1], 4)  # Compute factor for row 2\n",
        "A[2, :] = [chop_to_significant_digits(val, 4) for val in A[2, :] - factor * A[1, :]]\n",
        "\n",
        "# Perform back substitution with chopping\n",
        "x3 = chop_to_significant_digits(A[2, 3] / A[2, 2], 4)  # Solve for x3\n",
        "x2 = chop_to_significant_digits((A[1, 3] - A[1, 2] * x3) / A[1, 1], 4)  # Solve for x2\n",
        "x1 = chop_to_significant_digits((A[0, 3] - A[0, 1] * x2 - A[0, 2] * x3) / A[0, 0], 4)  # Solve for x1\n",
        "\n",
        "# Store the solution\n",
        "solution_6 = [x1, x2, x3]\n",
        "print(\"Solution with partial pivoting and chopping (Task 6):\", solution_6)"
      ],
      "metadata": {
        "colab": {
          "base_uri": "https://localhost:8080/"
        },
        "id": "fzwuUOoGu-iE",
        "outputId": "2c2d9b18-65ee-416c-b76c-a7708489401b"
      },
      "execution_count": 18,
      "outputs": [
        {
          "output_type": "stream",
          "name": "stdout",
          "text": [
            "Solution with partial pivoting and chopping (Task 6): [3.0, -13.0, 1.0]\n"
          ]
        }
      ]
    }
  ]
}