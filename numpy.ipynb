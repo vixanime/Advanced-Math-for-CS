{
 "cells": [
  {
   "cell_type": "code",
   "execution_count": 28,
   "metadata": {},
   "outputs": [],
   "source": [
    "import numpy as np"
   ]
  },
  {
   "cell_type": "code",
   "execution_count": 29,
   "metadata": {},
   "outputs": [
    {
     "name": "stdout",
     "output_type": "stream",
     "text": [
      "\n",
      "Exercise 1 - Matrix Addition:\n",
      "[[10 10 10]\n",
      " [10 10 10]\n",
      " [10 10 10]]\n",
      "\n",
      "Exercise 1 - Matrix Subtraction:\n",
      "[[-8 -6 -4]\n",
      " [-2  0  2]\n",
      " [ 4  6  8]]\n"
     ]
    }
   ],
   "source": [
    "# Exercise 1: Matrix Addition & Subtraction\n",
    "matrix1 = np.array([[1, 2, 3], [4, 5, 6], [7, 8, 9]])\n",
    "matrix2 = np.array([[9, 8, 7], [6, 5, 4], [3, 2, 1]])\n",
    "\n",
    "print(\"\\nExercise 1 - Matrix Addition:\")\n",
    "print(matrix1 + matrix2)\n",
    "print(\"\\nExercise 1 - Matrix Subtraction:\")\n",
    "print(matrix1 - matrix2)"
   ]
  },
  {
   "cell_type": "code",
   "execution_count": 30,
   "metadata": {},
   "outputs": [
    {
     "name": "stdout",
     "output_type": "stream",
     "text": [
      "Exercise 2 - Matrix Multiplication:\n",
      "[[ 58  64]\n",
      " [139 154]]\n"
     ]
    }
   ],
   "source": [
    "# Exercise 2: Matrix Multiplication\n",
    "matrix_A = np.array([[1, 2, 3], [4, 5, 6]])  # 2x3 matrix\n",
    "matrix_B = np.array([[7, 8], [9, 10], [11, 12]])  # 3x2 matrix\n",
    "\n",
    "# Perform matrix multiplication\n",
    "mp_result = np.dot(matrix_A, matrix_B)\n",
    "print(\"Exercise 2 - Matrix Multiplication:\")\n",
    "print(mp_result) "
   ]
  },
  {
   "cell_type": "code",
   "execution_count": 31,
   "metadata": {},
   "outputs": [
    {
     "name": "stdout",
     "output_type": "stream",
     "text": [
      "\n",
      "Element-Wise Multiplication (D * E):\n",
      "[[12 21]\n",
      " [32 45]]\n",
      "\n",
      "Transpose of Matrix D:\n",
      "[[2 4]\n",
      " [3 5]]\n"
     ]
    }
   ],
   "source": [
    "# Define two matrices with the same shape for element-wise multiplication (2x2)\n",
    "matrix_d = np.array([[2, 3], [4, 5]])\n",
    "matrix_e = np.array([[6, 7], [8, 9]])\n",
    "\n",
    "# Perform element-wise multiplication\n",
    "elementwise_result = matrix_d * matrix_e\n",
    "print(\"\\nElement-Wise Multiplication (D * E):\")\n",
    "print(elementwise_result)\n",
    "\n",
    "# Transpose of a matrix\n",
    "transpose_result = matrix_d.T\n",
    "print(\"\\nTranspose of Matrix D:\")\n",
    "print(transpose_result) "
   ]
  },
  {
   "cell_type": "code",
   "execution_count": 32,
   "metadata": {},
   "outputs": [
    {
     "name": "stdout",
     "output_type": "stream",
     "text": [
      "\n",
      "Exercise 3 - Transpose of Matrix:\n",
      "[[1 4]\n",
      " [2 5]\n",
      " [3 6]]\n",
      "\n",
      "Determinant of F: -2.0\n"
     ]
    }
   ],
   "source": [
    "# Exercise 3: Matrix Transpose\n",
    "matrix3 = np.array([[1, 2, 3], [4, 5, 6]])\n",
    "print(\"\\nExercise 3 - Transpose of Matrix:\")\n",
    "print(matrix3.T)\n",
    "\n",
    "# Determinant of a Matrix\n",
    "F = np.array([[4, 2], [3, 1]])\n",
    "determinant_result = np.linalg.det(F)\n",
    "print(\"\\nDeterminant of F:\", determinant_result)"
   ]
  },
  {
   "cell_type": "code",
   "execution_count": 33,
   "metadata": {},
   "outputs": [
    {
     "name": "stdout",
     "output_type": "stream",
     "text": [
      "\n",
      "Exercise 4 - Determinant of 3x3 Matrix:\n",
      "6.000000000000003\n"
     ]
    }
   ],
   "source": [
    "# Exercise 4: Calculating the Determinant\n",
    "matrix4 = np.array([[1, 2, 1], \n",
    "                    [2, 3, 4], \n",
    "                    [3, 2, 5]])\n",
    "\n",
    "print(\"\\nExercise 4 - Determinant of 3x3 Matrix:\")\n",
    "print(np.linalg.det(matrix4))"
   ]
  },
  {
   "cell_type": "code",
   "execution_count": 34,
   "metadata": {},
   "outputs": [
    {
     "name": "stdout",
     "output_type": "stream",
     "text": [
      "\n",
      "Exercise 5 - Inverse of the 2x2 Matrix:\n",
      "[[-2.   1. ]\n",
      " [ 1.5 -0.5]]\n"
     ]
    }
   ],
   "source": [
    "# Exercise 5: Finding the Inverse\n",
    "matrix5 = np.array([[1, 2], \n",
    "                    [3, 4]])\n",
    "\n",
    "print(\"\\nExercise 5 - Inverse of the 2x2 Matrix:\")\n",
    "print(np.linalg.inv(matrix5))\n"
   ]
  }
 ],
 "metadata": {
  "kernelspec": {
   "display_name": "base",
   "language": "python",
   "name": "python3"
  },
  "language_info": {
   "codemirror_mode": {
    "name": "ipython",
    "version": 3
   },
   "file_extension": ".py",
   "mimetype": "text/x-python",
   "name": "python",
   "nbconvert_exporter": "python",
   "pygments_lexer": "ipython3",
   "version": "3.12.7"
  }
 },
 "nbformat": 4,
 "nbformat_minor": 2
}
