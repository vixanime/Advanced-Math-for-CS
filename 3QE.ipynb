{
 "cells": [
  {
   "cell_type": "code",
   "execution_count": 14,
   "metadata": {},
   "outputs": [
    {
     "name": "stdout",
     "output_type": "stream",
     "text": [
      "Solution (Unknowns):\n",
      "[ 7.36462094 32.23826715 -1.62454874 15.05415162 16.93140794]\n"
     ]
    }
   ],
   "source": [
    "import numpy as np\n",
    "\n",
    "# Coefficient matrix A (5x5 matrix)\n",
    "A = np.array([\n",
    "    [3, 2, 1, 1, 0],\n",
    "    [1, 4, 2, 0, 1],\n",
    "    [2, 3, 4, 1, 0],\n",
    "    [1, 1, 3, 5, 0],\n",
    "    [0, 1, 2, 4, 3]\n",
    "])\n",
    "\n",
    "# Constant matrix B (5x1 matrix)\n",
    "B = np.array([100, 150, 120, 110, 140])\n",
    "\n",
    "# Check if matrix A is invertible (determinant should not be zero)\n",
    "det_A = np.linalg.det(A)\n",
    "if det_A == 0:\n",
    "    print(\"Matrix A is singular and cannot be inverted!\")\n",
    "else:\n",
    "    # Find the inverse of matrix A\n",
    "    A_inv = np.linalg.inv(A)\n",
    "\n",
    "    # Solve for X using the matrix inverse method\n",
    "    X = np.dot(A_inv, B)\n",
    "\n",
    "    print(\"Solution (Unknowns):\")\n",
    "    print(X)\n"
   ]
  },
  {
   "cell_type": "markdown",
   "metadata": {},
   "source": [
    "Problem 1: Solve the system of linear equations using matrix inversion"
   ]
  },
  {
   "cell_type": "code",
   "execution_count": 25,
   "metadata": {},
   "outputs": [
    {
     "name": "stdout",
     "output_type": "stream",
     "text": [
      "Solution for Problem 1:\n",
      "[2.64102564 1.61538462 1.8974359 ]\n"
     ]
    }
   ],
   "source": [
    "# Matrix A1 (coefficients)\n",
    "A1 = np.array([\n",
    "    [2, 1, -1],\n",
    "    [-1, 3, 2],\n",
    "    [1, -2, 4]])\n",
    "\n",
    "# Matrix B1 (constants)\n",
    "B1 = np.array([5, 6, 7])\n",
    "\n",
    "# Check if A1 has an inverse\n",
    "det_A1 = np.linalg.det(A1)\n",
    "if det_A1 == 0:\n",
    "    print(\"A1 can't be inverted!\")\n",
    "else:\n",
    "    # Find the inverse of A1\n",
    "    A1_inv = np.linalg.inv(A1)\n",
    "    # Solve for X\n",
    "    X1 = np.dot(A1_inv, B1)\n",
    "    print(\"Solution for Problem 1:\")\n",
    "    print(X1)"
   ]
  },
  {
   "cell_type": "markdown",
   "metadata": {},
   "source": [
    "Problem 2: Solve the network of computers system"
   ]
  },
  {
   "cell_type": "code",
   "execution_count": 26,
   "metadata": {},
   "outputs": [
    {
     "name": "stdout",
     "output_type": "stream",
     "text": [
      "Solution for Problem 2:\n",
      "[ -23.86666667  137.6        -336.          242.53333333  241.86666667]\n"
     ]
    }
   ],
   "source": [
    "# Matrix A2 (coefficients)\n",
    "A2 = np.array([\n",
    "    [5, 3, 1, 1, 0],\n",
    "    [4, 6, 2, 0, 1],\n",
    "    [2, 7, 3, 1, 0],\n",
    "    [1, 2, 4, 5, 0],\n",
    "    [3, 4, 5, 0, 6]\n",
    "])\n",
    "\n",
    "# Matrix B2 (constants)\n",
    "B2 = np.array([200, 300, 150, 120, 250])\n",
    "\n",
    "# Check if A2 has an inverse\n",
    "det_A2 = np.linalg.det(A2)\n",
    "if det_A2 == 0:\n",
    "    print(\"A2 can't be inverted!\")\n",
    "else:\n",
    "    # Find the inverse of A2\n",
    "    A2_inv = np.linalg.inv(A2)\n",
    "    # Solve for X\n",
    "    X2 = np.dot(A2_inv, B2)\n",
    "    print(\"Solution for Problem 2:\")\n",
    "    print(X2)"
   ]
  },
  {
   "cell_type": "markdown",
   "metadata": {},
   "source": [
    "Problem 3: Solve for 7 unknown variables in a cryptographic algorithm"
   ]
  },
  {
   "cell_type": "code",
   "execution_count": 39,
   "metadata": {},
   "outputs": [
    {
     "name": "stdout",
     "output_type": "stream",
     "text": [
      "Solution for Problem 3:\n",
      "[ 0.20091141 -1.79944651  2.27447131  2.49518308  0.08444156 -2.45914623\n",
      " -0.77710437]\n"
     ]
    }
   ],
   "source": [
    "# Matrix A3 (random 7x7 coefficients)\n",
    "A3 = np.random.rand(7, 7)\n",
    "\n",
    "# Matrix B3 (random 7x1 constants)\n",
    "B3 = np.random.rand(7)\n",
    "\n",
    "# Check if A3 has an inverse\n",
    "det_A3 = np.linalg.det(A3)\n",
    "if det_A3 == 0:\n",
    "    print(\"A3 can't be inverted!\")\n",
    "else:\n",
    "    # Find the inverse of A3\n",
    "    A3_inv = np.linalg.inv(A3)\n",
    "    # Solve for X\n",
    "    X3 = np.dot(A3_inv, B3)\n",
    "    print(\"Solution for Problem 3:\")\n",
    "    print(X3)"
   ]
  },
  {
   "cell_type": "markdown",
   "metadata": {},
   "source": [
    "Problem 4: Solve for 5 unknowns in a machine component system"
   ]
  },
  {
   "cell_type": "code",
   "execution_count": 36,
   "metadata": {},
   "outputs": [
    {
     "name": "stdout",
     "output_type": "stream",
     "text": [
      "Solution for Problem 4:\n",
      "[ 6.84190097 -8.86309595  8.40672232 -1.61770714 -4.45193383]\n"
     ]
    }
   ],
   "source": [
    "# Matrix A4 (random 5x5 coefficients)\n",
    "A4 = np.random.rand(5, 5)\n",
    "\n",
    "# Matrix B4 (random 5x1 constants)\n",
    "B4 = np.random.rand(5)\n",
    "\n",
    "# Check if A4 has an inverse\n",
    "det_A4 = np.linalg.det(A4)\n",
    "if det_A4 == 0:\n",
    "    print(\"A4 can't be inverted!\")\n",
    "else:\n",
    "    # Find the inverse of A4\n",
    "    A4_inv = np.linalg.inv(A4)\n",
    "    # Solve for X\n",
    "    X4 = np.dot(A4_inv, B4)\n",
    "    print(\"Solution for Problem 4:\")\n",
    "    print(X4)"
   ]
  },
  {
   "cell_type": "markdown",
   "metadata": {},
   "source": [
    "Problem 5: Write a Python function to solve for any number of unknowns using matrix inversion"
   ]
  },
  {
   "cell_type": "code",
   "execution_count": 40,
   "metadata": {},
   "outputs": [
    {
     "name": "stdout",
     "output_type": "stream",
     "text": [
      "Solution for Problem 5 (Unknowns):\n",
      "[ 7.36462094 32.23826715 -1.62454874 15.05415162 16.93140794]\n"
     ]
    }
   ],
   "source": [
    "def solve_linear_system(A, B):\n",
    "    det_A = np.linalg.det(A)\n",
    "    if det_A == 0:\n",
    "        print(\"Matrix A is singular and cannot be inverted!\")\n",
    "        return None\n",
    "    else:\n",
    "        A_inv = np.linalg.inv(A)\n",
    "        X = np.dot(A_inv, B)\n",
    "        return X\n",
    "\n",
    "A5 = np.array([\n",
    "    [3, 2, 1, 1, 0],\n",
    "    [1, 4, 2, 0, 1],\n",
    "    [2, 3, 4, 1, 0],\n",
    "    [1, 1, 3, 5, 0],\n",
    "    [0, 1, 2, 4, 3]\n",
    "])\n",
    "\n",
    "B5 = np.array([100, 150, 120, 110, 140])\n",
    "\n",
    "solution = solve_linear_system(A5, B5)\n",
    "if solution is not None:\n",
    "    print(\"Solution for Problem 5 (Unknowns):\")\n",
    "    print(solution)"
   ]
  }
 ],
 "metadata": {
  "kernelspec": {
   "display_name": "base",
   "language": "python",
   "name": "python3"
  },
  "language_info": {
   "codemirror_mode": {
    "name": "ipython",
    "version": 3
   },
   "file_extension": ".py",
   "mimetype": "text/x-python",
   "name": "python",
   "nbconvert_exporter": "python",
   "pygments_lexer": "ipython3",
   "version": "3.12.7"
  }
 },
 "nbformat": 4,
 "nbformat_minor": 2
}
