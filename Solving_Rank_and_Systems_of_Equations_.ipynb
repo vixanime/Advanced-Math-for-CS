{
  "nbformat": 4,
  "nbformat_minor": 0,
  "metadata": {
    "colab": {
      "provenance": []
    },
    "kernelspec": {
      "name": "python3",
      "display_name": "Python 3"
    },
    "language_info": {
      "name": "python"
    }
  },
  "cells": [
    {
      "cell_type": "markdown",
      "source": [
        "### **Student Activity:** *Solving Rank of a Matrix, Systems of Equations, and Matrix Operations*"
      ],
      "metadata": {
        "id": "3WuYL2bi1Rk7"
      }
    },
    {
      "cell_type": "markdown",
      "source": [
        "1. Rank of a Matrix\n",
        "  \n",
        "  The rank of a matrix can be determined using *numpy.linalg.matrix_rank*."
      ],
      "metadata": {
        "id": "yqpl63tL1gyb"
      }
    },
    {
      "cell_type": "code",
      "source": [
        "import numpy as np\n",
        "\n",
        "# Define the matrix\n",
        "A = np.array([[1, 2, 3],\n",
        "              [4, 5, 6],\n",
        "              [7, 8, 9]])\n",
        "\n",
        "# Compute the rank\n",
        "rank = np.linalg.matrix_rank(A)\n",
        "\n",
        "print(f\"Rank of matrix A: {rank}\")"
      ],
      "metadata": {
        "colab": {
          "base_uri": "https://localhost:8080/"
        },
        "id": "IMG2bOhZ1dHq",
        "outputId": "5cbde9b2-a7ce-4c4b-acf5-5295cd4e5d23"
      },
      "execution_count": 11,
      "outputs": [
        {
          "output_type": "stream",
          "name": "stdout",
          "text": [
            "Rank of matrix A: 2\n"
          ]
        }
      ]
    },
    {
      "cell_type": "markdown",
      "source": [
        "2. Solving Systems of Equations Using Matrix Inverse (3x3)\n",
        "  \n",
        "    To solve systems of equations using the matrix inverse method, ensure the coefficient matrix is *invertible* (non-zero determinant)."
      ],
      "metadata": {
        "id": "bFOISRVu1qaY"
      }
    },
    {
      "cell_type": "code",
      "source": [
        "import numpy as np\n",
        "\n",
        "# Coefficient matrix\n",
        "A = np.array([[2, 1, -1],\n",
        "              [-3, -1, 2],\n",
        "              [-2, 1, 2]])\n",
        "\n",
        "# Constant vector\n",
        "b = np.array([8, -11, -3])\n",
        "\n",
        "# Check if the determinant is non-zero (invertible matrix)\n",
        "if np.linalg.det(A) != 0:\n",
        "    # Solve for x using A^-1 * b\n",
        "    x = np.linalg.inv(A).dot(b)\n",
        "    print(f\"Solution: {x}\")\n",
        "else:\n",
        "    print(\"Matrix A is not invertible. No unique solution.\")"
      ],
      "metadata": {
        "colab": {
          "base_uri": "https://localhost:8080/"
        },
        "id": "_cy9OBy81uif",
        "outputId": "a25ae5ca-4ef7-4f15-bc94-6818e7bbf144"
      },
      "execution_count": 12,
      "outputs": [
        {
          "output_type": "stream",
          "name": "stdout",
          "text": [
            "Solution: [ 2.  3. -1.]\n"
          ]
        }
      ]
    },
    {
      "cell_type": "markdown",
      "source": [
        "3. Matrix Addition for n×n Matrices\n",
        "\n",
        "  Matrix addition is straightforward using *numpy*."
      ],
      "metadata": {
        "id": "5Jv-aZLe1vxg"
      }
    },
    {
      "cell_type": "code",
      "source": [
        "# Define two 4x4 matrices\n",
        "A = np.array([[1, 2, 3, 4],\n",
        "              [5, 6, 7, 8],\n",
        "              [9, 10, 11, 12],\n",
        "              [13, 14, 15, 16]])\n",
        "\n",
        "B = np.array([[16, 15, 14, 13],\n",
        "              [12, 11, 10, 9],\n",
        "              [8, 7, 6, 5],\n",
        "              [4, 3, 2, 1]])\n",
        "\n",
        "# Add the matrices\n",
        "C = A + B\n",
        "\n",
        "print(\"Matrix A + B:\")\n",
        "print(C)"
      ],
      "metadata": {
        "colab": {
          "base_uri": "https://localhost:8080/"
        },
        "id": "EWaOtSn11y4U",
        "outputId": "c8b68fe9-af50-4717-aa57-deb67dbfa847"
      },
      "execution_count": 13,
      "outputs": [
        {
          "output_type": "stream",
          "name": "stdout",
          "text": [
            "Matrix A + B:\n",
            "[[17 17 17 17]\n",
            " [17 17 17 17]\n",
            " [17 17 17 17]\n",
            " [17 17 17 17]]\n"
          ]
        }
      ]
    },
    {
      "cell_type": "markdown",
      "source": [
        "# **Practice Problems**"
      ],
      "metadata": {
        "id": "9YUxdzNk11L1"
      }
    },
    {
      "cell_type": "markdown",
      "source": [
        "Problem 1: Rank of a Matrix"
      ],
      "metadata": {
        "id": "4WycsMDO16HS"
      }
    },
    {
      "cell_type": "code",
      "source": [
        "# Define the matrix\n",
        "A = np.array([[1, 2, 0, 4],\n",
        "              [3, 6, 0, 8],\n",
        "              [5, 10, 0, 12],\n",
        "              [7, 14, 0, 16]])\n",
        "\n",
        "# Compute the rank\n",
        "rank = np.linalg.matrix_rank(A)\n",
        "\n",
        "print(f\"Rank of matrix A: {rank}\")"
      ],
      "metadata": {
        "colab": {
          "base_uri": "https://localhost:8080/"
        },
        "id": "51H5U2dw17ye",
        "outputId": "f3a072eb-4955-4d83-e3d4-e992c8441aa3"
      },
      "execution_count": 14,
      "outputs": [
        {
          "output_type": "stream",
          "name": "stdout",
          "text": [
            "Rank of matrix A: 2\n"
          ]
        }
      ]
    },
    {
      "cell_type": "markdown",
      "source": [
        "Problem 2: Solve a 3x3 System of Equations"
      ],
      "metadata": {
        "id": "M37CCldQ196I"
      }
    },
    {
      "cell_type": "code",
      "source": [
        "import numpy as np\n",
        "\n",
        "# Define the coefficient matrix A\n",
        "A = np.array([[1, 1, 1],\n",
        "              [2, 4, 3],\n",
        "              [0, 0, 1]])\n",
        "\n",
        "# Define the constant vector b\n",
        "b = np.array([6, 18, 5])\n",
        "\n",
        "# Check if the matrix A is invertible\n",
        "if np.linalg.det(A) != 0:  # Determinant check for invertibility\n",
        "    # Compute the solution X\n",
        "    X = np.linalg.inv(A).dot(b)\n",
        "    print(f\"Solution: x = {X[0]}, y = {X[1]}, z = {X[2]}\")\n",
        "else:\n",
        "    print(\"Matrix A is not invertible. No unique solution.\")"
      ],
      "metadata": {
        "colab": {
          "base_uri": "https://localhost:8080/"
        },
        "id": "Vi6HIrB939xR",
        "outputId": "36f010a2-faf8-4134-bb2f-3a39aba22bde"
      },
      "execution_count": 15,
      "outputs": [
        {
          "output_type": "stream",
          "name": "stdout",
          "text": [
            "Solution: x = 0.5, y = 0.5, z = 5.0\n"
          ]
        }
      ]
    },
    {
      "cell_type": "markdown",
      "source": [
        "Problem 3: Solve a 4x4 System of Equations"
      ],
      "metadata": {
        "id": "_01hDdOF2A7m"
      }
    },
    {
      "cell_type": "code",
      "source": [
        "import numpy as np\n",
        "\n",
        "# Define the coefficient matrix A\n",
        "A = np.array([[1, 1, 1, 1],\n",
        "              [2, 1, 0, 3],\n",
        "              [4, 3, 2, 1],\n",
        "              [3, 0, 5, 2]])\n",
        "\n",
        "# Define the constant vector b\n",
        "b = np.array([10, 11, 20, 15])\n",
        "\n",
        "# Check if the matrix A is invertible\n",
        "if np.linalg.det(A) != 0:  # Determinant check for invertibility\n",
        "    # Compute the solution X\n",
        "    X = np.linalg.inv(A).dot(b)\n",
        "    print(f\"Solution: {X[0]}, {X[1]}, {X[2]}, {X[3]}\")\n",
        "else:\n",
        "    print(\"Matrix A is not invertible. No unique solution.\")"
      ],
      "metadata": {
        "colab": {
          "base_uri": "https://localhost:8080/"
        },
        "id": "cnjS8HAO4WVC",
        "outputId": "33af4e99-4f9d-4426-a861-562b5cc71e14"
      },
      "execution_count": 16,
      "outputs": [
        {
          "output_type": "stream",
          "name": "stdout",
          "text": [
            "Solution: -1.625, 6.0, 2.875, 2.75\n"
          ]
        }
      ]
    }
  ]
}